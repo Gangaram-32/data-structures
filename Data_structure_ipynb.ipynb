{
  "nbformat": 4,
  "nbformat_minor": 0,
  "metadata": {
    "colab": {
      "provenance": []
    },
    "kernelspec": {
      "name": "python3",
      "display_name": "Python 3"
    },
    "language_info": {
      "name": "python"
    }
  },
  "cells": [
    {
      "cell_type": "markdown",
      "source": [
        "1. What are data structures, and why are they important?\n",
        "- Data structures are ways to organize, manage and store data efficiently for easy access and modification. They are important because they optimize algorithms, improve performance, and make complex tasks easier to handle.\n",
        "\n",
        "2. Explain the difference between mutable and immutable data types with examples.\n",
        "- Mutable data types can be changed after creation(e.g. lists, dictionaries) Immutable data types cannot be changed after creation(e.g. strings,tuples)\n",
        "3. What are main difference between lists and tuples in pyton?\n",
        "- Lists are mutable, tuples are immutable\n",
        "- Lists use more memory and are slower, tuples are memory efficient and faster\n",
        "4. Describe how dictionaries store data?\n",
        "- Dictionaries store data as key value pairs in a hash table, where key are unique and used to access corresponding values.\n",
        "5. What might you use a set instead of a list ?\n",
        "- Sets are used for unique, unordered data and provide faster membership testing compared to lists.\n",
        "6. What is string in pyton, and how is oit different from a list?\n",
        "- A string is a sequence of charecters, immutable and used for text data. Lists are mutable and can store elements of different types.\n",
        "7. How do tuples ensure data integrity in pyton\n",
        "- Tuples are immutable, ensuring that their contents cannot be altered, making them suitable for fixed data.\n",
        "8. What is a hash table, and how does it relate to dictionaries in pyton?\n",
        "- A hash table is a data structures that maps keys to value using a hash function. Python dictionaries are implememted using hash tables.\n",
        "9. Can lists contain different data types in python?\n",
        "- Yes, Python lists can store elements of mixed data types.\n",
        "10. Explain why strings are immutable in python.\n",
        "_ Strings are immutable to ensure thread safety, optimize performance through interning, and allow for hash based operations like using them as a dictionary keys.\n",
        "11. What advantages do dictionaries offer overlists for certain tasks?\n",
        "- Dictionaries provide faster lookups using keys, while lists require searching by index or iterating through elements.\n",
        "12. Describe scenario where using a tuple would be preferable over a lists.\n",
        "- Tuples are preferable for representing fixed collections like coordinates (x, y) or database records that shouldnt change.\n",
        "13. How do sets handle duplicate values in python?\n",
        "- Sets automatically remove duplicate values, ensuring each elements in unique.\n",
        "14. How does the \"in\" keyword work differently for lists and dictinaries.\n",
        "- In lists, it checks for the presence of a value.\n",
        "- In dictionaries, it checks for the presence of a key.\n",
        "15. Can you modify the elements of a tuple? Explain why or not.\n",
        "- No, Tuples are immuatable, meaning their elements cannot be modified after creation.\n",
        "16. What is a nested dictionary, and give an example of its use case?\n",
        "- A nested dictionary is a dictionary within a dictionary.\n",
        "Ex: Storing student data,\n",
        "{\"student 1\": {\"name\": \"John\":,\"age\":20},\n",
        "{\"student 2\": {\"name\": \"Jane\":,\"age\":22},\n",
        "17. Describe the time complexity of accessing elements in a dictionary.\n",
        "- Assessing elements in a dictionary has an average time complexity of 0(1) due to hash table implementation.\n",
        "18. In what situstions are lists prefered over dictionaries?\n",
        "- Lists are preferred when order matters or when dealing with sequential data without key value relationships.\n",
        "19. Why are dictionaries considered unordered, and how does that a affects data retrival?\n",
        "- Dictionaries before pyton 3.7 did not guarantee order. Data retrival depends on keys, not order, which optimizes performance but doesn't allow indexing.\n",
        "20. Explain the difference between a lists and dictionary in terms of data retrival.\n",
        "- Lists: Retrive data by index.\n",
        "- Dictionaries: Retrive data by key.\n"
      ],
      "metadata": {
        "id": "RE6gzRJSSM-a"
      }
    },
    {
      "cell_type": "markdown",
      "source": [
        "Practical Quetions.\n",
        "1. Write a code to create a string with your name and print it:"
      ],
      "metadata": {
        "id": "pU-c0bxJd-gh"
      }
    },
    {
      "cell_type": "code",
      "execution_count": 5,
      "metadata": {
        "colab": {
          "base_uri": "https://localhost:8080/"
        },
        "id": "8SucvYRbR60F",
        "outputId": "b802be13-2d43-426f-a939-b1d235f1010c"
      },
      "outputs": [
        {
          "output_type": "stream",
          "name": "stdout",
          "text": [
            "Gangaram\n"
          ]
        }
      ],
      "source": [
        "name = \"Gangaram\"\n",
        "print(name)"
      ]
    },
    {
      "cell_type": "markdown",
      "source": [
        "2. Write a code to find the length of the string\" Hello World\""
      ],
      "metadata": {
        "id": "V8uQMDWbfFw2"
      }
    },
    {
      "cell_type": "code",
      "source": [
        "string = \"Hello World\"\n",
        "print(len(string))"
      ],
      "metadata": {
        "colab": {
          "base_uri": "https://localhost:8080/"
        },
        "id": "SfeQWnZxfhNG",
        "outputId": "ad06ccc0-b821-4724-e58e-1f9f2b7a7032"
      },
      "execution_count": 6,
      "outputs": [
        {
          "output_type": "stream",
          "name": "stdout",
          "text": [
            "11\n"
          ]
        }
      ]
    },
    {
      "cell_type": "markdown",
      "source": [
        "3. Write a code to slice the first 3 characters from the string \"Python Programming\""
      ],
      "metadata": {
        "id": "2Ei0jOTVfmif"
      }
    },
    {
      "cell_type": "code",
      "source": [
        "string = \"Python Programming\"\n",
        "print(string[:3])"
      ],
      "metadata": {
        "colab": {
          "base_uri": "https://localhost:8080/"
        },
        "id": "un6kpWLAfzhV",
        "outputId": "e1ed9324-b0a7-4633-bc56-4a77667ba451"
      },
      "execution_count": 7,
      "outputs": [
        {
          "output_type": "stream",
          "name": "stdout",
          "text": [
            "Pyt\n"
          ]
        }
      ]
    },
    {
      "cell_type": "markdown",
      "source": [
        "4. Write a code to convert the string \"hello\" to uppercase"
      ],
      "metadata": {
        "id": "vDx15bxZf-iC"
      }
    },
    {
      "cell_type": "code",
      "source": [
        "string = \"hello\"\n",
        "print(string.upper())"
      ],
      "metadata": {
        "colab": {
          "base_uri": "https://localhost:8080/"
        },
        "id": "Rk26z4UQgFIb",
        "outputId": "ffa9e417-622f-44af-e083-6b58ddefd942"
      },
      "execution_count": 8,
      "outputs": [
        {
          "output_type": "stream",
          "name": "stdout",
          "text": [
            "HELLO\n"
          ]
        }
      ]
    },
    {
      "cell_type": "markdown",
      "source": [
        "5. Write a code to replace the word \"apple\" with \"orange\" in the string \"I like apple\"\n"
      ],
      "metadata": {
        "id": "E2Cp_0mOgKiq"
      }
    },
    {
      "cell_type": "code",
      "source": [
        "string = \"I like apple\"\n",
        "print(string.replace(\"apple\", \"orange\"))"
      ],
      "metadata": {
        "colab": {
          "base_uri": "https://localhost:8080/"
        },
        "id": "ikEEg2nsgPxW",
        "outputId": "43511b98-9407-467d-e63d-d6653a6f1bfb"
      },
      "execution_count": 9,
      "outputs": [
        {
          "output_type": "stream",
          "name": "stdout",
          "text": [
            "I like orange\n"
          ]
        }
      ]
    },
    {
      "cell_type": "markdown",
      "source": [
        "6. Write a code to create a list with numbers 1 to 5 and print it"
      ],
      "metadata": {
        "id": "UNyiY7YEgYFF"
      }
    },
    {
      "cell_type": "code",
      "source": [
        "numbers = [1, 2, 3, 4, 5]\n",
        "print(numbers)"
      ],
      "metadata": {
        "colab": {
          "base_uri": "https://localhost:8080/"
        },
        "id": "ZC4RUzU0gdUq",
        "outputId": "980030ae-1bc5-4d95-dc00-793472d09422"
      },
      "execution_count": 10,
      "outputs": [
        {
          "output_type": "stream",
          "name": "stdout",
          "text": [
            "[1, 2, 3, 4, 5]\n"
          ]
        }
      ]
    },
    {
      "cell_type": "markdown",
      "source": [
        "7. Write a code to append the number 10 to the list [1, 2, 3, 4]"
      ],
      "metadata": {
        "id": "PzShSkFqgjGO"
      }
    },
    {
      "cell_type": "code",
      "source": [
        "numbers = [1, 2, 3, 4]\n",
        "numbers.append(10)\n",
        "print(numbers)"
      ],
      "metadata": {
        "colab": {
          "base_uri": "https://localhost:8080/"
        },
        "id": "-hFhIju2gkU1",
        "outputId": "c08af7f5-5c27-4dff-b648-6d08a87ee813"
      },
      "execution_count": 11,
      "outputs": [
        {
          "output_type": "stream",
          "name": "stdout",
          "text": [
            "[1, 2, 3, 4, 10]\n"
          ]
        }
      ]
    },
    {
      "cell_type": "markdown",
      "source": [
        "8. Write a code to remove the number 3 from the list [1, 2, 3, 4, 5]"
      ],
      "metadata": {
        "id": "GcshzndVgsB6"
      }
    },
    {
      "cell_type": "code",
      "source": [
        "numbers = [1, 2, 3, 4, 5]\n",
        "numbers.remove(3)\n",
        "print(numbers)"
      ],
      "metadata": {
        "colab": {
          "base_uri": "https://localhost:8080/"
        },
        "id": "KfkiMCMNgtJh",
        "outputId": "18b2d281-72a0-40f9-9f7d-feaac3319c9d"
      },
      "execution_count": 12,
      "outputs": [
        {
          "output_type": "stream",
          "name": "stdout",
          "text": [
            "[1, 2, 4, 5]\n"
          ]
        }
      ]
    },
    {
      "cell_type": "markdown",
      "source": [
        "9. Write a code to access the second element in the list ['a', 'b', 'c', 'd']"
      ],
      "metadata": {
        "id": "Mkj8k7-qg0dw"
      }
    },
    {
      "cell_type": "code",
      "source": [
        "letters = ['a', 'b', 'c', 'd']\n",
        "print(letters[1])"
      ],
      "metadata": {
        "colab": {
          "base_uri": "https://localhost:8080/"
        },
        "id": "rWSFdaLDg1ej",
        "outputId": "dd778093-b903-44f6-a2b6-fccbe05e04b4"
      },
      "execution_count": 13,
      "outputs": [
        {
          "output_type": "stream",
          "name": "stdout",
          "text": [
            "b\n"
          ]
        }
      ]
    },
    {
      "cell_type": "markdown",
      "source": [
        "10. Write a code to reverse the list [10, 20, 30, 40, 50]"
      ],
      "metadata": {
        "id": "s9RxS3SLg5c7"
      }
    },
    {
      "cell_type": "code",
      "source": [
        "numbers = [10, 20, 30, 40, 50]\n",
        "numbers.reverse()\n",
        "print(numbers)"
      ],
      "metadata": {
        "colab": {
          "base_uri": "https://localhost:8080/"
        },
        "id": "rxnaXDcLg-yu",
        "outputId": "d57d2f08-276f-428d-f4d3-30d7ec90768d"
      },
      "execution_count": 14,
      "outputs": [
        {
          "output_type": "stream",
          "name": "stdout",
          "text": [
            "[50, 40, 30, 20, 10]\n"
          ]
        }
      ]
    },
    {
      "cell_type": "markdown",
      "source": [
        "11. Write a code to create a tuple with the elements 10, 20, 30 and print it."
      ],
      "metadata": {
        "id": "rKNCXXgKhHrL"
      }
    },
    {
      "cell_type": "code",
      "source": [
        "my_tuple = (10, 20, 30)\n",
        "print(my_tuple)"
      ],
      "metadata": {
        "colab": {
          "base_uri": "https://localhost:8080/"
        },
        "id": "kvUnbEaShJSj",
        "outputId": "cfe8d0b8-f0e2-4198-deb6-c77505d6e488"
      },
      "execution_count": 15,
      "outputs": [
        {
          "output_type": "stream",
          "name": "stdout",
          "text": [
            "(10, 20, 30)\n"
          ]
        }
      ]
    },
    {
      "cell_type": "markdown",
      "source": [
        "12. Write a code to access the first element of the tuple ('apple', 'banana', 'cherry'):"
      ],
      "metadata": {
        "id": "w6PnXd1uhNHQ"
      }
    },
    {
      "cell_type": "code",
      "source": [
        "fruits = ('apple', 'banana', 'cherry')\n",
        "print(fruits[0])"
      ],
      "metadata": {
        "colab": {
          "base_uri": "https://localhost:8080/"
        },
        "id": "hF7EpQO5hRAA",
        "outputId": "cdca2ca1-289d-4ccc-bfc2-168b33ae4ca8"
      },
      "execution_count": 16,
      "outputs": [
        {
          "output_type": "stream",
          "name": "stdout",
          "text": [
            "apple\n"
          ]
        }
      ]
    },
    {
      "cell_type": "markdown",
      "source": [
        "13. Write a code to count how many times the number 2 appears in the tuple (1, 2, 3, 2, 4, 2):"
      ],
      "metadata": {
        "id": "K1EFtufvhfTg"
      }
    },
    {
      "cell_type": "code",
      "source": [
        "my_tuple = (1, 2, 3, 2, 4, 2)\n",
        "print(my_tuple.count(2))"
      ],
      "metadata": {
        "colab": {
          "base_uri": "https://localhost:8080/"
        },
        "id": "eeJVoIJMhguW",
        "outputId": "743f9778-7dad-474b-bf3a-8f72ae52684e"
      },
      "execution_count": 17,
      "outputs": [
        {
          "output_type": "stream",
          "name": "stdout",
          "text": [
            "3\n"
          ]
        }
      ]
    },
    {
      "cell_type": "markdown",
      "source": [
        "14. Write a code to find the index of the element \"cat\" in the tuple ('dog', 'cat', 'rabbit'):"
      ],
      "metadata": {
        "id": "mAlsGHM3hj9M"
      }
    },
    {
      "cell_type": "code",
      "source": [
        "animals = ('dog', 'cat', 'rabbit')\n",
        "print(animals.index('cat'))"
      ],
      "metadata": {
        "colab": {
          "base_uri": "https://localhost:8080/"
        },
        "id": "LdzIaSLdhnml",
        "outputId": "663a69cd-b688-4290-ca53-239127c0ded4"
      },
      "execution_count": 18,
      "outputs": [
        {
          "output_type": "stream",
          "name": "stdout",
          "text": [
            "1\n"
          ]
        }
      ]
    },
    {
      "cell_type": "markdown",
      "source": [
        "15. Write a code to check if the element \"banana\" is in the tuple ('apple', 'orange', 'banana'):"
      ],
      "metadata": {
        "id": "Mc0YSVLhhvdb"
      }
    },
    {
      "cell_type": "code",
      "source": [
        "fruits = ('apple', 'orange', 'banana')\n",
        "print('banana' in fruits)"
      ],
      "metadata": {
        "colab": {
          "base_uri": "https://localhost:8080/"
        },
        "id": "HXlecg9qhwsc",
        "outputId": "4b8d4fb1-e71b-419b-c9b5-e3eb5c91f1ba"
      },
      "execution_count": 19,
      "outputs": [
        {
          "output_type": "stream",
          "name": "stdout",
          "text": [
            "True\n"
          ]
        }
      ]
    },
    {
      "cell_type": "markdown",
      "source": [
        "16. Write a code to create a set with the elements 1, 2, 3, 4, 5 and print it:"
      ],
      "metadata": {
        "id": "D1-Wc7Vdh0cP"
      }
    },
    {
      "cell_type": "code",
      "source": [
        "my_set = {1, 2, 3, 4, 5}\n",
        "print(my_set)"
      ],
      "metadata": {
        "colab": {
          "base_uri": "https://localhost:8080/"
        },
        "id": "oO95TxVfh3Z_",
        "outputId": "f03f4132-a449-46ff-947c-ded80f354a0e"
      },
      "execution_count": 20,
      "outputs": [
        {
          "output_type": "stream",
          "name": "stdout",
          "text": [
            "{1, 2, 3, 4, 5}\n"
          ]
        }
      ]
    },
    {
      "cell_type": "markdown",
      "source": [
        "17. Write a code to add the element 6 to the set {1, 2, 3, 4}:"
      ],
      "metadata": {
        "id": "a0aBn-Z6h6vn"
      }
    },
    {
      "cell_type": "code",
      "source": [
        "my_set = {1, 2, 3, 4}\n",
        "my_set.add(6)\n",
        "print(my_set)"
      ],
      "metadata": {
        "colab": {
          "base_uri": "https://localhost:8080/"
        },
        "id": "8IiJPTZCh-n2",
        "outputId": "70ff1fe5-d2da-4fec-d2f9-ed431f11334c"
      },
      "execution_count": 21,
      "outputs": [
        {
          "output_type": "stream",
          "name": "stdout",
          "text": [
            "{1, 2, 3, 4, 6}\n"
          ]
        }
      ]
    },
    {
      "cell_type": "markdown",
      "source": [
        "18. Create a tuple with elements 10, 20, 30 and print it:"
      ],
      "metadata": {
        "id": "-UkgsRSUiDYT"
      }
    },
    {
      "cell_type": "code",
      "source": [
        "my_tuple = (10, 20, 30)\n",
        "print(my_tuple)"
      ],
      "metadata": {
        "colab": {
          "base_uri": "https://localhost:8080/"
        },
        "id": "ibvQC-BeiKO-",
        "outputId": "5a7d8993-537e-4d08-8159-8cbe91c49694"
      },
      "execution_count": 23,
      "outputs": [
        {
          "output_type": "stream",
          "name": "stdout",
          "text": [
            "(10, 20, 30)\n"
          ]
        }
      ]
    },
    {
      "cell_type": "markdown",
      "source": [
        "19. Access the first element of the tuple ('apple', 'banana', 'cherry'):"
      ],
      "metadata": {
        "id": "7pIpACwfiUnx"
      }
    },
    {
      "cell_type": "code",
      "source": [
        "fruits = ('apple', 'banana', 'cherry')\n",
        "print(fruits[0])"
      ],
      "metadata": {
        "colab": {
          "base_uri": "https://localhost:8080/"
        },
        "id": "xZHqRggjj98M",
        "outputId": "7f82b353-0389-4d14-b6a5-8d102031fced"
      },
      "execution_count": 24,
      "outputs": [
        {
          "output_type": "stream",
          "name": "stdout",
          "text": [
            "apple\n"
          ]
        }
      ]
    },
    {
      "cell_type": "markdown",
      "source": [
        "20. Count how many times the number 2 appears in the tuple (1, 2, 3, 2, 4, 2):"
      ],
      "metadata": {
        "id": "sB4aGd1SkCQa"
      }
    },
    {
      "cell_type": "code",
      "source": [
        "my_tuple = (1, 2, 3, 2, 4, 2)\n",
        "print(my_tuple.count(2))"
      ],
      "metadata": {
        "colab": {
          "base_uri": "https://localhost:8080/"
        },
        "id": "k2B4JRlqkDj2",
        "outputId": "c80e63df-7d67-471c-cf85-fe6662b0fd21"
      },
      "execution_count": 25,
      "outputs": [
        {
          "output_type": "stream",
          "name": "stdout",
          "text": [
            "3\n"
          ]
        }
      ]
    },
    {
      "cell_type": "markdown",
      "source": [
        "21. Find the index of the element \"cat\" in the tuple ('dog', 'cat', 'rabbit'):"
      ],
      "metadata": {
        "id": "OgCOniN-kKoU"
      }
    },
    {
      "cell_type": "code",
      "source": [
        "animals = ('dog', 'cat', 'rabbit')\n",
        "print(animals.index('cat'))"
      ],
      "metadata": {
        "colab": {
          "base_uri": "https://localhost:8080/"
        },
        "id": "yZbdQ6WIkLsq",
        "outputId": "c5981ba6-5072-49ae-a936-08db9a66dd16"
      },
      "execution_count": 26,
      "outputs": [
        {
          "output_type": "stream",
          "name": "stdout",
          "text": [
            "1\n"
          ]
        }
      ]
    },
    {
      "cell_type": "markdown",
      "source": [
        "22. Check if the element \"banana\" is in the tuple ('apple', 'orange', 'banana'):"
      ],
      "metadata": {
        "id": "fk42G66ZkPTk"
      }
    },
    {
      "cell_type": "code",
      "source": [
        "fruits = ('apple', 'orange', 'banana')\n",
        "print('banana' in fruits)"
      ],
      "metadata": {
        "colab": {
          "base_uri": "https://localhost:8080/"
        },
        "id": "5pjPyRiYkUJh",
        "outputId": "663cdedc-0adf-4333-bb43-bc7d5c9a2024"
      },
      "execution_count": 27,
      "outputs": [
        {
          "output_type": "stream",
          "name": "stdout",
          "text": [
            "True\n"
          ]
        }
      ]
    },
    {
      "cell_type": "markdown",
      "source": [
        "23. Create a set with elements 1, 2, 3, 4, 5 and print it"
      ],
      "metadata": {
        "id": "Q79cJOoOkVvK"
      }
    },
    {
      "cell_type": "code",
      "source": [
        "my_set = {1, 2, 3, 4, 5}\n",
        "print(my_set)"
      ],
      "metadata": {
        "colab": {
          "base_uri": "https://localhost:8080/"
        },
        "id": "5yyUhhUXkez3",
        "outputId": "39db9bf5-04e1-4e1f-dcfe-80a7e6995431"
      },
      "execution_count": 28,
      "outputs": [
        {
          "output_type": "stream",
          "name": "stdout",
          "text": [
            "{1, 2, 3, 4, 5}\n"
          ]
        }
      ]
    },
    {
      "cell_type": "markdown",
      "source": [
        "24. Add the element 6 to the set {1, 2, 3, 4}"
      ],
      "metadata": {
        "id": "-Jo7qySgkhs3"
      }
    },
    {
      "cell_type": "code",
      "source": [
        "my_set = {1, 2, 3, 4}\n",
        "my_set.add(6)\n",
        "print(my_set)"
      ],
      "metadata": {
        "colab": {
          "base_uri": "https://localhost:8080/"
        },
        "id": "cDRiIwoDkmuW",
        "outputId": "efbe8124-d19f-4adf-c60f-7450552c3b78"
      },
      "execution_count": 29,
      "outputs": [
        {
          "output_type": "stream",
          "name": "stdout",
          "text": [
            "{1, 2, 3, 4, 6}\n"
          ]
        }
      ]
    }
  ]
}